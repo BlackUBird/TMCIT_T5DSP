{
  "nbformat": 4,
  "nbformat_minor": 0,
  "metadata": {
    "colab": {
      "provenance": [],
      "authorship_tag": "ABX9TyOuUDhwZkJNmkINYvh/gFE3",
      "include_colab_link": true
    },
    "kernelspec": {
      "name": "python3",
      "display_name": "Python 3"
    },
    "language_info": {
      "name": "python"
    }
  },
  "cells": [
    {
      "cell_type": "markdown",
      "metadata": {
        "id": "view-in-github",
        "colab_type": "text"
      },
      "source": [
        "<a href=\"https://colab.research.google.com/github/BlackUBird/TMCIT_T5DSP/blob/main/T5DSP_27.ipynb\" target=\"_parent\"><img src=\"https://colab.research.google.com/assets/colab-badge.svg\" alt=\"Open In Colab\"/></a>"
      ]
    },
    {
      "cell_type": "markdown",
      "source": [
        "#**ニューラルネットワークの順伝播**"
      ],
      "metadata": {
        "id": "2uzO8Xx9Anix"
      }
    },
    {
      "cell_type": "code",
      "execution_count": 1,
      "metadata": {
        "id": "tK7E_S0oAjBo"
      },
      "outputs": [],
      "source": [
        "import numpy as np\n"
      ]
    },
    {
      "cell_type": "code",
      "source": [
        "input_size = 2\n",
        "hidden_size = 3\n",
        "output_size = 2\n"
      ],
      "metadata": {
        "id": "G6fAlloEA0eZ"
      },
      "execution_count": 2,
      "outputs": []
    },
    {
      "cell_type": "code",
      "source": [
        "W1 = np.random.rand(input_size, hidden_size)\n",
        "b1 = np.random.rand(hidden_size)\n",
        "W2 = np.random.rand(hidden_size, output_size)\n",
        "b2 = np.random.rand(output_size)"
      ],
      "metadata": {
        "id": "odITJeKjBAmL"
      },
      "execution_count": 3,
      "outputs": []
    },
    {
      "cell_type": "code",
      "source": [
        "sigmoid = lambda x: 1/(1+np.exp(-x))"
      ],
      "metadata": {
        "id": "EYYJkVtjBFFL"
      },
      "execution_count": 4,
      "outputs": []
    },
    {
      "cell_type": "markdown",
      "source": [
        "※ラムダ(lambda)式  \n",
        "単一の数式などをわざわざ関数として定義せず一つの式のように記述する方法  \n",
        "以下の２つのコードは同じ動作をします\n",
        "\n",
        "```\n",
        "sigmoid = lambda x: 1/(1+np.exp(-x))\n",
        "```\n",
        "```\n",
        "def sigmoid(x):\n",
        "  return 1/(1+np.exp(-x))\n",
        "```"
      ],
      "metadata": {
        "id": "hQ4gtJ-dBJua"
      }
    },
    {
      "cell_type": "code",
      "source": [
        "def predict(x):\n",
        "    a1 = np.dot(x, W1)+b1\n",
        "    z1 = sigmoid(a1)\n",
        "    a2 = np.dot(z1, W2)+b2\n",
        "    y = sigmoid(a2)\n",
        "    return y"
      ],
      "metadata": {
        "id": "wGXvo7pjBMxZ"
      },
      "execution_count": 5,
      "outputs": []
    },
    {
      "cell_type": "code",
      "source": [
        "x = np.array([0, 1])\n",
        "predict(x)"
      ],
      "metadata": {
        "colab": {
          "base_uri": "https://localhost:8080/"
        },
        "id": "o2T13K7LBQIB",
        "outputId": "7de0e63b-c962-4646-e304-2feea074f616"
      },
      "execution_count": 6,
      "outputs": [
        {
          "output_type": "execute_result",
          "data": {
            "text/plain": [
              "array([0.90656093, 0.87855351])"
            ]
          },
          "metadata": {},
          "execution_count": 6
        }
      ]
    },
    {
      "cell_type": "markdown",
      "source": [
        "#**勾配法**"
      ],
      "metadata": {
        "id": "ONrx520nBSfB"
      }
    },
    {
      "cell_type": "code",
      "source": [
        "import numpy as np\n",
        "import matplotlib.pyplot as plt"
      ],
      "metadata": {
        "id": "JS9DrsKVBVXC"
      },
      "execution_count": 7,
      "outputs": []
    },
    {
      "cell_type": "markdown",
      "source": [
        "### 最適化する関数の設定\n",
        "最適化する関数$y$を${\\rm cos}x$とする\n",
        "$$\n",
        "y = {\\rm cos}x\n",
        "$$\n",
        "\n",
        "$$\n",
        "\\frac{{\\rm d}y}{{\\rm d}x}=\\frac{{\\rm d}}{{\\rm d}x}{\\rm cos}x=-{\\rm sin}x\n",
        "$$"
      ],
      "metadata": {
        "id": "FMzypDjSBYsK"
      }
    },
    {
      "cell_type": "code",
      "source": [
        "def func(x):\n",
        "    return np.cos(x)\n",
        "\n",
        "def diff_func(x):\n",
        "    return -1*np.sin(x)"
      ],
      "metadata": {
        "id": "obJeGMsrBZey"
      },
      "execution_count": 8,
      "outputs": []
    },
    {
      "cell_type": "markdown",
      "source": [
        "### 初期状態\n",
        "```\n",
        "point = 5.5\n",
        "```\n",
        "を適当な値に変えて実行しても良い"
      ],
      "metadata": {
        "id": "DdyDtRT0Bbtb"
      }
    },
    {
      "cell_type": "code",
      "source": [
        "point = 5.5\n",
        "x = np.arange(0, 2*np.pi, 1/100)\n",
        "plt.plot(x, func(x), label=\"y=sin(x)\")\n",
        "plt.scatter(point, func(point), label=\"sin(x0)\", marker='o', c='r')\n",
        "plt.title(\"default status\")\n",
        "plt.text(5, -0.75, \"$x$ = \"+str(point))\n",
        "plt.text(5, -0.85, \"$y$ = \"+str('{:.2f}'.format(func(point))))\n",
        "plt.ylim(-1.5, 1)\n",
        "plt.xlim(0, 2*np.pi)\n",
        "plt.xlabel(\"x\")\n",
        "plt.ylabel(\"y\")\n",
        "plt.legend(loc='lower left')\n",
        "count = 0\n",
        "plt.show();"
      ],
      "metadata": {
        "colab": {
          "base_uri": "https://localhost:8080/",
          "height": 295
        },
        "id": "-U7O0CuYBd-y",
        "outputId": "63ee8b6b-fd1d-4f9d-f621-bd85471e8598"
      },
      "execution_count": 9,
      "outputs": [
        {
          "output_type": "display_data",
          "data": {
            "text/plain": [
              "<Figure size 432x288 with 1 Axes>"
            ],
            "image/png": "[encoded data removed]"
          },
          "metadata": {
            "needs_background": "light"
          }
        }
      ]
    },
    {
      "cell_type": "markdown",
      "source": [
        "### 勾配法を用いた最適化\n",
        "以下のコードセルを繰り返し実行するたびに結果が更新されます．  \n",
        "(Ctrl+Enterで移動せずにセルを実行できます）"
      ],
      "metadata": {
        "id": "91eOmOULBmsa"
      }
    },
    {
      "cell_type": "code",
      "source": [
        "count +=1\n",
        "plt.scatter(point, func(point), label=\"old\", marker='x', c='g')\n",
        "learning_rate = 0.5\n",
        "point += -1*learning_rate*diff_func(point)\n",
        "\n",
        "plt.plot(x, func(x), label=\"y=sin(x)\")\n",
        "plt.plot(x, diff_func(point)*x+func(point)-diff_func(point)*point, \\\n",
        "         label=\"tangent line\", linestyle=\"--\")\n",
        "plt.scatter(point, func(point), label=\"new\", marker='o', c='r')\n",
        "\n",
        "plt.ylim(-1.5, 1)\n",
        "plt.xlim(0, 2*np.pi)\n",
        "plt.xlabel(\"x\")\n",
        "plt.ylabel(\"y\")\n",
        "plt.title(\"updated \"+str(count)+\" times\")\n",
        "plt.text(5, -0.75, \"x = \"+str('{:.2f}'.format(point)))\n",
        "plt.text(5, -0.85, \"y = \"+str('{:.2f}'.format(func(point))))\n",
        "plt.legend(loc='lower left')\n",
        "plt.show();"
      ],
      "metadata": {
        "colab": {
          "base_uri": "https://localhost:8080/",
          "height": 295
        },
        "id": "0xiC73p1BnUq",
        "outputId": "05094c91-81be-4bfb-8392-596855ca1919"
      },
      "execution_count": 10,
      "outputs": [
        {
          "output_type": "display_data",
          "data": {
            "text/plain": [
              "<Figure size 432x288 with 1 Axes>"
            ],
            "image/png": "[encoded data removed]"
          },
          "metadata": {
            "needs_background": "light"
          }
        }
      ]
    },
    {
      "cell_type": "markdown",
      "source": [
        "## ニューラルネットワークの実装"
      ],
      "metadata": {
        "id": "dVgyUkjeBrzC"
      }
    },
    {
      "cell_type": "code",
      "source": [
        "import numpy as np\n",
        "import matplotlib.pyplot as plt\n",
        "from sklearn.datasets import load_digits"
      ],
      "metadata": {
        "id": "k_oU0wqsBsli"
      },
      "execution_count": 11,
      "outputs": []
    },
    {
      "cell_type": "markdown",
      "source": [
        "### digits datasetの読み込み"
      ],
      "metadata": {
        "id": "wGOKwaqdBufi"
      }
    },
    {
      "cell_type": "code",
      "source": [
        "digits = load_digits()"
      ],
      "metadata": {
        "id": "UKibyKxwBx6a"
      },
      "execution_count": 12,
      "outputs": []
    },
    {
      "cell_type": "markdown",
      "source": [
        "#### データの確認"
      ],
      "metadata": {
        "id": "UpPBSq8vB0uB"
      }
    },
    {
      "cell_type": "code",
      "source": [
        "num = 3\n",
        "plt.imshow(digits.images[num])\n",
        "print(digits.data[num])"
      ],
      "metadata": {
        "colab": {
          "base_uri": "https://localhost:8080/",
          "height": 334
        },
        "id": "du02DaDnB2n6",
        "outputId": "14a26fe5-3cde-4616-9cff-196728d0956b"
      },
      "execution_count": 13,
      "outputs": [
        {
          "output_type": "stream",
          "name": "stdout",
          "text": [
            "[ 0.  0.  7. 15. 13.  1.  0.  0.  0.  8. 13.  6. 15.  4.  0.  0.  0.  2.\n",
            "  1. 13. 13.  0.  0.  0.  0.  0.  2. 15. 11.  1.  0.  0.  0.  0.  0.  1.\n",
            " 12. 12.  1.  0.  0.  0.  0.  0.  1. 10.  8.  0.  0.  0.  8.  4.  5. 14.\n",
            "  9.  0.  0.  0.  7. 13. 13.  9.  0.  0.]\n"
          ]
        },
        {
          "output_type": "display_data",
          "data": {
            "text/plain": [
              "<Figure size 432x288 with 1 Axes>"
            ],
            "image/png": "[encoded data removed]"
          },
          "metadata": {
            "needs_background": "light"
          }
        }
      ]
    },
    {
      "cell_type": "code",
      "source": [
        "for i in range(25):\n",
        "    plt.subplot(5, 5, i+1)\n",
        "    plt.imshow(digits.images[i])"
      ],
      "metadata": {
        "colab": {
          "base_uri": "https://localhost:8080/",
          "height": 267
        },
        "id": "L8I62ykcB5xq",
        "outputId": "2785e3de-6804-4869-b1cc-d6ffa76d3c4b"
      },
      "execution_count": 14,
      "outputs": [
        {
          "output_type": "display_data",
          "data": {
            "text/plain": [
              "<Figure size 432x288 with 25 Axes>"
            ],
            "image/png": "[encoded data removed]"
          },
          "metadata": {
            "needs_background": "light"
          }
        }
      ]
    },
    {
      "cell_type": "markdown",
      "source": [
        "### 訓練データとテストデータの分離"
      ],
      "metadata": {
        "id": "V316rMmfB8n6"
      }
    },
    {
      "cell_type": "code",
      "source": [
        "from sklearn.model_selection import train_test_split"
      ],
      "metadata": {
        "id": "KWsO8ikfB8J6"
      },
      "execution_count": 15,
      "outputs": []
    },
    {
      "cell_type": "code",
      "source": [
        "X_train, X_test, y_train, y_test =train_test_split(digits.data, digits.target, random_state=1)"
      ],
      "metadata": {
        "id": "bKrXO1-gCAGS"
      },
      "execution_count": 16,
      "outputs": []
    },
    {
      "cell_type": "markdown",
      "source": [
        "### 識別器の生成"
      ],
      "metadata": {
        "id": "sDP-3pI1CCjq"
      }
    },
    {
      "cell_type": "code",
      "source": [
        "from sklearn.neural_network import MLPClassifier"
      ],
      "metadata": {
        "id": "s4jCaMFxCDVK"
      },
      "execution_count": 17,
      "outputs": []
    },
    {
      "cell_type": "markdown",
      "source": [
        "↓ここの数値をいじってみる  \n",
        "hidden_layer_sizesやsolverなど  "
      ],
      "metadata": {
        "id": "tRG6oSoxC2Is"
      }
    },
    {
      "cell_type": "code",
      "source": [
        "nn = MLPClassifier(hidden_layer_sizes=10, solver='lbfgs')"
      ],
      "metadata": {
        "id": "IKHFbUDWCFkC"
      },
      "execution_count": 25,
      "outputs": []
    },
    {
      "cell_type": "markdown",
      "source": [
        "訓練データを用いた識別器の学習"
      ],
      "metadata": {
        "id": "g27taCO5CIvi"
      }
    },
    {
      "cell_type": "code",
      "source": [
        "nn.fit(X_train, y_train)"
      ],
      "metadata": {
        "colab": {
          "base_uri": "https://localhost:8080/"
        },
        "id": "HDKfS55_CJes",
        "outputId": "29710a5a-38e9-4a3c-b8bd-09f9d01bbe9c"
      },
      "execution_count": 26,
      "outputs": [
        {
          "output_type": "stream",
          "name": "stderr",
          "text": [
            "/usr/local/lib/python3.8/dist-packages/sklearn/neural_network/_multilayer_perceptron.py:549: ConvergenceWarning: lbfgs failed to converge (status=1):\n",
            "STOP: TOTAL NO. of ITERATIONS REACHED LIMIT.\n",
            "\n",
            "Increase the number of iterations (max_iter) or scale the data as shown in:\n",
            "    https://scikit-learn.org/stable/modules/preprocessing.html\n",
            "  self.n_iter_ = _check_optimize_result(\"lbfgs\", opt_res, self.max_iter)\n"
          ]
        },
        {
          "output_type": "execute_result",
          "data": {
            "text/plain": [
              "MLPClassifier(hidden_layer_sizes=10, solver='lbfgs')"
            ]
          },
          "metadata": {},
          "execution_count": 26
        }
      ]
    },
    {
      "cell_type": "markdown",
      "source": [
        "#**テストデータを用いたモデルの評価**\n"
      ],
      "metadata": {
        "id": "DdGOglk7CM0y"
      }
    },
    {
      "cell_type": "markdown",
      "source": [
        "### テストデータを用いたモデルの評価\n"
      ],
      "metadata": {
        "id": "AY8ZngO_CUPK"
      }
    },
    {
      "cell_type": "code",
      "source": [
        "nn.score(X_test, y_test)"
      ],
      "metadata": {
        "colab": {
          "base_uri": "https://localhost:8080/"
        },
        "id": "E_Oms772CR4L",
        "outputId": "e945f48e-1f2a-48b9-ab46-8bc28c61199c"
      },
      "execution_count": 30,
      "outputs": [
        {
          "output_type": "execute_result",
          "data": {
            "text/plain": [
              "0.8577777777777778"
            ]
          },
          "metadata": {},
          "execution_count": 30
        }
      ]
    },
    {
      "cell_type": "markdown",
      "source": [
        "#### 混同行列"
      ],
      "metadata": {
        "id": "pwYufU4OCXyr"
      }
    },
    {
      "cell_type": "code",
      "source": [
        "from sklearn.metrics import ConfusionMatrixDisplay"
      ],
      "metadata": {
        "id": "bRua8ZRJCZoK"
      },
      "execution_count": 31,
      "outputs": []
    },
    {
      "cell_type": "code",
      "source": [
        "ConfusionMatrixDisplay.from_estimator(nn, X_test, y_test)"
      ],
      "metadata": {
        "colab": {
          "base_uri": "https://localhost:8080/",
          "height": 296
        },
        "id": "lHhO9mSnCbXy",
        "outputId": "1a3deff5-2936-4935-927a-0d50a1a68204"
      },
      "execution_count": 32,
      "outputs": [
        {
          "output_type": "execute_result",
          "data": {
            "text/plain": [
              "<sklearn.metrics._plot.confusion_matrix.ConfusionMatrixDisplay at 0x7f1d61de4c70>"
            ]
          },
          "metadata": {},
          "execution_count": 32
        },
        {
          "output_type": "display_data",
          "data": {
            "text/plain": [
              "<Figure size 432x288 with 2 Axes>"
            ],
            "image/png": "[encoded data removed]"
          },
          "metadata": {
            "needs_background": "light"
          }
        }
      ]
    }
  ]
}