import numpy as np
import matplotlib.pyplot as plt
import math
import cmath

1次元IDFT(離散フーリエ逆変換)を行う関数
def idft(S):
  #引数Sの長さ
  N = len(S)

  #結果格納用
  result = np.zeros( N , dtype = "complex" )

  #引数Sの長さ分ループ
  for n in range(N):
    #再度引数Sの長さ分ループ
    for k in range(N):
      result[n] += ( S[k] * np.e ** ( 1j * 2 * np.pi * n * k / N ) ) / N

  
  #計算結果を返却
  return (result)

#1次元DFT(離散フーリエ変換)を行う関数
def dft(s):
  #引数sの長さ
  N = len(s)

  #結果格納用
  result = np.zeros( N , dtype = "complex" )

  #引数sの長さ分ループ
  for k in range(N):
    #sの要素でループ
    for n in range(N):
      result[k] += s[n] * np.e ** ( -1 * 1j * 2 * np.pi * k * n / N )

  #計算結果を返却
  return (result)

#テスト用
s2 = np.array( [ 3 , -1 , 2 , 0 ] )
print( "s2" , np.fft.fft( s2 ) )

#dft
dft_s2 = dft(s2)
print( "dft(s2):" , dft_s2 )

#idft
idft_s2 = idft(dft_s2)
print( "idft(s2):" , idft_s2 )
