{
  "nbformat": 4,
  "nbformat_minor": 0,
  "metadata": {
    "colab": {
      "provenance": [],
      "collapsed_sections": [],
      "toc_visible": true,
      "include_colab_link": true
    },
    "kernelspec": {
      "name": "python3",
      "display_name": "Python 3"
    },
    "language_info": {
      "name": "python"
    }
  },
  "cells": [
    {
      "cell_type": "markdown",
      "metadata": {
        "id": "view-in-github",
        "colab_type": "text"
      },
      "source": [
        "<a href=\"https://colab.research.google.com/github/BlackUBird/TMCIT_T5DSP/blob/main/dsp18_20221017.ipynb\" target=\"_parent\"><img src=\"https://colab.research.google.com/assets/colab-badge.svg\" alt=\"Open In Colab\"/></a>"
      ]
    },
    {
      "cell_type": "markdown",
      "metadata": {
        "id": "6nv_WKRgEeHL"
      },
      "source": [
        "author: 上原正志  \n",
        "date: 2022.10.17  \n",
        "- ケプストラム分析"
      ]
    },
    {
      "cell_type": "code",
      "metadata": {
        "id": "G0wHe9jS608o"
      },
      "source": [
        "import numpy as np\n",
        "import matplotlib.pyplot as plt\n",
        "from scipy.io.wavfile import read\n",
        "from numpy.fft import fft, ifft, fftfreq\n",
        "from IPython.display import Audio"
      ],
      "execution_count": null,
      "outputs": []
    },
    {
      "cell_type": "markdown",
      "metadata": {
        "id": "_6daWDYq8glX"
      },
      "source": [
        "## 音声の読み込み"
      ]
    },
    {
      "cell_type": "code",
      "metadata": {
        "id": "ebBvoJhA7XIr"
      },
      "source": [
        "fs, a = read(\"speech_a.wav\")\n",
        "print(fs)\n",
        "t = np.arange(0, len(a))/fs\n",
        "a = a/max(np.abs(a))\n",
        "plt.xlim(0, len(a)/fs)\n",
        "plt.xlabel(\"time [s]\")\n",
        "plt.ylabel(\"amplitude\")\n",
        "plt.plot(t,a)\n",
        "Audio(a, rate=fs)"
      ],
      "execution_count": null,
      "outputs": []
    },
    {
      "cell_type": "markdown",
      "metadata": {
        "id": "hZOKTsGf8jqC"
      },
      "source": [
        "## 解析区間の抽出"
      ]
    },
    {
      "cell_type": "code",
      "metadata": {
        "id": "4BSBKUsb72QR"
      },
      "source": [
        "start_sec = 0.3\n",
        "N = 512\n",
        "\n",
        "start_sample = int(start_sec * fs)\n",
        "end_sample = start_sample+N\n",
        "\n",
        "x = a[start_sample:end_sample]\n",
        "t_target = np.arange(0, N)/fs\n",
        "plt.xlim(0, N/fs)\n",
        "plt.xlabel(\"time [s]\")\n",
        "plt.ylabel(\"amplitude\")\n",
        "plt.plot(t_target,x)"
      ],
      "execution_count": null,
      "outputs": []
    },
    {
      "cell_type": "markdown",
      "source": [
        "## スペクトルの導出\n",
        "離散フーリエ変換(fft)をおこなう"
      ],
      "metadata": {
        "id": "mBTlr5tiArkp"
      }
    },
    {
      "cell_type": "code",
      "source": [
        "X = fft(x)"
      ],
      "metadata": {
        "id": "_QA69T3wA5GF"
      },
      "execution_count": null,
      "outputs": []
    },
    {
      "cell_type": "markdown",
      "source": [
        "スペクトルの可視化（上段：実数部，下段：虚数部）"
      ],
      "metadata": {
        "id": "CQxNRUkWBCaV"
      }
    },
    {
      "cell_type": "code",
      "source": [
        "freqs = fftfreq(N, d=1.0/fs)\n",
        "\n",
        "plt.subplot(2,1,1)\n",
        "plt.plot(freqs, X.real)\n",
        "plt.xlim(min(freqs), max(freqs))\n",
        "plt.ylabel(\"real part\")\n",
        "\n",
        "plt.subplot(2,1,2)\n",
        "plt.plot(freqs, X.imag)\n",
        "plt.xlim(min(freqs), max(freqs))\n",
        "plt.ylabel(\"imag part\")\n",
        "\n",
        "plt.xlabel(\"frequency [Hz]\")"
      ],
      "metadata": {
        "id": "6FWNoASVBTON"
      },
      "execution_count": null,
      "outputs": []
    },
    {
      "cell_type": "markdown",
      "source": [
        "## 振幅スペクトル\n",
        "複素スペクトルの絶対値"
      ],
      "metadata": {
        "id": "L_1Glso9B9Es"
      }
    },
    {
      "cell_type": "code",
      "source": [
        "X_abs = np.abs(X)"
      ],
      "metadata": {
        "id": "6kz8OezOCDUc"
      },
      "execution_count": null,
      "outputs": []
    },
    {
      "cell_type": "markdown",
      "source": [
        "複素スペクトルの可視化"
      ],
      "metadata": {
        "id": "CMfwPORxCNRt"
      }
    },
    {
      "cell_type": "code",
      "source": [
        "freqs = fftfreq(N, d=1.0/fs)\n",
        "\n",
        "plt.plot(freqs, X_abs)\n",
        "plt.xlabel(\"frequency [Hz]\")\n",
        "plt.ylabel(\"spectrum\")\n",
        "plt.xlim(min(freqs), max(freqs))"
      ],
      "metadata": {
        "id": "VQ8N7IycCRRn"
      },
      "execution_count": null,
      "outputs": []
    },
    {
      "cell_type": "markdown",
      "source": [
        "負の周波数成分を除いて可視化"
      ],
      "metadata": {
        "id": "0wRMatWpCi03"
      }
    },
    {
      "cell_type": "code",
      "source": [
        "plt.plot(freqs[:N//2], X_abs[:N//2])\n",
        "plt.xlabel(\"frequency [Hz]\")\n",
        "plt.ylabel(\"spectrum\")\n",
        "plt.xlim(0, max(freqs[:N//2]))"
      ],
      "metadata": {
        "id": "T4Hve9ogCiRx"
      },
      "execution_count": null,
      "outputs": []
    },
    {
      "cell_type": "markdown",
      "source": [
        "## 対数(振幅)スペクトル\n",
        "振幅スペクトルの自然対数をとる"
      ],
      "metadata": {
        "id": "Qkxo0TDwGNZb"
      }
    },
    {
      "cell_type": "code",
      "source": [
        "X_ln = np.log(X_abs)"
      ],
      "metadata": {
        "id": "deX8IqWNGasQ"
      },
      "execution_count": null,
      "outputs": []
    },
    {
      "cell_type": "markdown",
      "source": [
        "対数スペクトルの可視化"
      ],
      "metadata": {
        "id": "GnJZv_njGwwa"
      }
    },
    {
      "cell_type": "code",
      "source": [
        "plt.plot(freqs[:N//2], X_ln[:N//2])\n",
        "plt.xlabel(\"frequency [Hz]\")\n",
        "plt.ylabel(\"log amplitude spectrum\")\n",
        "plt.xlim(0,max(freqs[:N//2]))"
      ],
      "metadata": {
        "id": "8T4bbdVLG0ND"
      },
      "execution_count": null,
      "outputs": []
    },
    {
      "cell_type": "markdown",
      "source": [
        "## ケプストラムの導出\n",
        "対数スペクトルを逆離散フーリエ変換"
      ],
      "metadata": {
        "id": "dBaFJWBZHimd"
      }
    },
    {
      "cell_type": "code",
      "source": [
        "ceps = ifft(X_ln)"
      ],
      "metadata": {
        "id": "Qzyla4OCH0FU"
      },
      "execution_count": null,
      "outputs": []
    },
    {
      "cell_type": "markdown",
      "source": [
        "ケプストラムの可視化"
      ],
      "metadata": {
        "id": "p3J0iiTgH_yR"
      }
    },
    {
      "cell_type": "code",
      "source": [
        "plt.plot(t_target[:N//2],ceps[:N//2].real)\n",
        "plt.xlim(0, max(t_target[:N//2]))\n",
        "plt.xlabel(\"quefrency [s]\")\n",
        "plt.ylabel(\"cepstrum\")"
      ],
      "metadata": {
        "id": "CjamQYaQH_ZE"
      },
      "execution_count": null,
      "outputs": []
    },
    {
      "cell_type": "markdown",
      "source": [
        "## リフタリング\n",
        "ケプストラムの低次成分を抽出"
      ],
      "metadata": {
        "id": "iDhmRV7WKFhQ"
      }
    },
    {
      "cell_type": "code",
      "source": [
        "low_sample = 30 # 抽出する次数\n",
        "ceps_low = ceps\n",
        "ceps_low[low_sample:N-low_sample] = 0"
      ],
      "metadata": {
        "id": "hr1nMT7TKSix"
      },
      "execution_count": null,
      "outputs": []
    },
    {
      "cell_type": "markdown",
      "source": [
        "リフタリング後のケプストラム"
      ],
      "metadata": {
        "id": "mg4ApJ-0KrYB"
      }
    },
    {
      "cell_type": "code",
      "source": [
        "plt.plot(t_target[:N//2], ceps_low[:N//2].real)\n",
        "plt.xlim(0, max(t_target[:N//2]))\n",
        "plt.xlabel(\"quefrency [s]\")\n",
        "plt.ylabel(\"cepstrum\")"
      ],
      "metadata": {
        "id": "nNkXOzmBKuXb"
      },
      "execution_count": null,
      "outputs": []
    },
    {
      "cell_type": "markdown",
      "source": [
        "## スペクトル包絡の導出\n",
        "リフタリング後のケプストラムをフーリエ変換"
      ],
      "metadata": {
        "id": "aiHE5L15Kemj"
      }
    },
    {
      "cell_type": "code",
      "source": [
        "spec_env = fft(ceps_low)"
      ],
      "metadata": {
        "id": "WjMcmOmDLPiA"
      },
      "execution_count": null,
      "outputs": []
    },
    {
      "cell_type": "markdown",
      "source": [
        "スペクトル包絡を可視化"
      ],
      "metadata": {
        "id": "5ZQ43hB2LxpW"
      }
    },
    {
      "cell_type": "code",
      "source": [
        "freqs = fftfreq(N, d=1.0/fs)\n",
        "plt.plot(freqs[:N//2], spec_env[:N//2].real)\n",
        "plt.xlim(0, max(freqs[:N//2]))"
      ],
      "metadata": {
        "id": "L2b7COslLVs5"
      },
      "execution_count": null,
      "outputs": []
    },
    {
      "cell_type": "markdown",
      "source": [
        "スペクトルと重ね合わせて表示"
      ],
      "metadata": {
        "id": "BXvb0hLXL3Hm"
      }
    },
    {
      "cell_type": "code",
      "metadata": {
        "id": "rah8z0WlC1gv"
      },
      "source": [
        "plt.plot(freqs[:N//2], X_ln[:N//2], linestyle=\":\", label=\"log amplitude spectrum\")\n",
        "plt.plot(freqs[:N//2], spec_env[:N//2].real, label=\"envelope of spectrum\")\n",
        "plt.xlabel(\"frequency [Hz]\")\n",
        "plt.ylabel(\"log amplitude spectrum\")\n",
        "plt.xlim(0, max(freqs[:N//2]))\n",
        "plt.legend()"
      ],
      "execution_count": null,
      "outputs": []
    },
    {
      "cell_type": "code",
      "source": [],
      "metadata": {
        "id": "3tcLDSFvMHW1"
      },
      "execution_count": null,
      "outputs": []
    }
  ]
}